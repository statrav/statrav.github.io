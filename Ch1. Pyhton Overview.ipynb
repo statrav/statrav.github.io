{
 "cells": [
  {
   "cell_type": "markdown",
   "id": "a5c92811",
   "metadata": {},
   "source": [
    "# Ch1. Python Overview"
   ]
  },
  {
   "cell_type": "markdown",
   "id": "f667e87b",
   "metadata": {},
   "source": [
    "## 01. Hello World in Python"
   ]
  },
  {
   "cell_type": "markdown",
   "id": "dc4606f3",
   "metadata": {},
   "source": [
    "#### def(함수)를 사용한 Hello World 도출"
   ]
  },
  {
   "cell_type": "code",
   "execution_count": 9,
   "id": "c22c3985",
   "metadata": {},
   "outputs": [],
   "source": [
    "def main():\n",
    "    print(\"Hello World!\")\n",
    "    print(\"This program computes the average of two scores.\")\n",
    "    \n",
    "    score1, score2 = input(\"Enter your two scores separated by a comma : \").split(\",\")\n",
    "    average = (int(score1) + int(score2)) / int(2)\n",
    "    \n",
    "    print(\"The average of your scores is \", average)"
   ]
  },
  {
   "cell_type": "code",
   "execution_count": 10,
   "id": "29fa307d",
   "metadata": {},
   "outputs": [
    {
     "name": "stdout",
     "output_type": "stream",
     "text": [
      "Hello World!\n",
      "This program computes the average of two scores.\n",
      "Enter your two scores separated by a comma : 100,90\n",
      "The average of your scores is  95.0\n"
     ]
    }
   ],
   "source": [
    "main()"
   ]
  },
  {
   "cell_type": "code",
   "execution_count": 3,
   "id": "3e01683e",
   "metadata": {},
   "outputs": [
    {
     "data": {
      "text/plain": [
       "2"
      ]
     },
     "execution_count": 3,
     "metadata": {},
     "output_type": "execute_result"
    }
   ],
   "source": [
    "int(2)"
   ]
  },
  {
   "cell_type": "markdown",
   "id": "61f26631",
   "metadata": {},
   "source": [
    "#### Class를 사용한 Hello World 도출"
   ]
  },
  {
   "cell_type": "code",
   "execution_count": 18,
   "id": "64031af0",
   "metadata": {},
   "outputs": [],
   "source": [
    "class HelloWorld:\n",
    "    def __int__(self):\n",
    "        print(\"Hello World! Just one more time!\")\n",
    "    def __del__(self):\n",
    "        print(\"Goodbye!\")\n",
    "    def performAverage(self, val1, val2):\n",
    "        average = (int(val1)+int(val2))/int(2)\n",
    "        print(\"The average of your scores is \", average)\n",
    "\n",
    "def main():\n",
    "    world = HelloWorld()\n",
    "    score1, score2 = input(\"Enter your two scores separated by a comma : \").split(\",\")\n",
    "    world.performAverage(score1, score2)"
   ]
  },
  {
   "cell_type": "code",
   "execution_count": 19,
   "id": "5aa872ae",
   "metadata": {},
   "outputs": [
    {
     "name": "stdout",
     "output_type": "stream",
     "text": [
      "Enter your two scores separated by a comma : 50,66\n",
      "The average of your scores is  58.0\n",
      "Goodbye!\n"
     ]
    }
   ],
   "source": [
    "main()"
   ]
  },
  {
   "cell_type": "markdown",
   "id": "f4646da3",
   "metadata": {},
   "source": [
    "## 02. Variable Statements and Operators"
   ]
  },
  {
   "cell_type": "markdown",
   "id": "20fbed9c",
   "metadata": {},
   "source": [
    "#### %d : 데이터 순서대로 삽입\n",
    "#### complex : 복소수 표현방법"
   ]
  },
  {
   "cell_type": "code",
   "execution_count": 24,
   "id": "a52233a6",
   "metadata": {},
   "outputs": [],
   "source": [
    "def main():\n",
    "    numYearBase10 = 2019\n",
    "    numYearBase8 = 0o3743\n",
    "    numYearBase16 = 0x7E3\n",
    "\n",
    "    print(\"Year by base 10: %d, by base 8: %d, by base 16: %d\" %(numYearBase10, numYearBase8, numYearBase16))\n",
    "    #'%d'의 경우 그 자리에 데이터를 끼워넣게끔 함\n",
    "\n",
    "    numComplex1 = complex(3,4)  #복소수 표현방법1\n",
    "    numComplex2 = 3+4j  #복소수 표현방법2\n",
    "\n",
    "main()\n",
    "    print(\"Complex value : \", numComplex1)  #복소수 표현\n",
    "    print(\"Absoulte value : \", abs(numComplex2))  #복소수의 경우 크기를 반환함 #절대값\n",
    "    print(\"Real value : \", numComplex1.real)  #실수부\n",
    "    print(\"Image value : \", numComplex1.imag)  #허수부"
   ]
  },
  {
   "cell_type": "code",
   "execution_count": 25,
   "id": "ce7c7b2b",
   "metadata": {},
   "outputs": [
    {
     "name": "stdout",
     "output_type": "stream",
     "text": [
      "Year by base 10: 2019, by base 8: 2019, by base 16: 2019\n",
      "Complex value :  (3+4j)\n",
      "Absoulte value :  5.0\n",
      "Real value :  3.0\n",
      "Image value :  4.0\n"
     ]
    }
   ],
   "source": [
    "main()"
   ]
  },
  {
   "cell_type": "markdown",
   "id": "821e78cf",
   "metadata": {},
   "source": [
    "#### 기본연산"
   ]
  },
  {
   "cell_type": "code",
   "execution_count": 26,
   "id": "27abc157",
   "metadata": {},
   "outputs": [
    {
     "name": "stdout",
     "output_type": "stream",
     "text": [
      "13, 7, 30, 3.333333, 1\n",
      "False\n",
      "True\n",
      "<class 'int'> 10\n"
     ]
    }
   ],
   "source": [
    "def main():\n",
    "    numTest1 = 10\n",
    "    numTest2 = 3.0\n",
    "    numPlus = numTest1 + numTest2\n",
    "    numMinus = numTest1 - numTest2\n",
    "    numMultiply = numTest1 * numTest2\n",
    "    numDivide = numTest1 / numTest2\n",
    "    numModula = numTest1 % numTest2  #나머지\n",
    "    print(\"%d, %d, %d, %f, %d\" %(numPlus, numMinus, numMultiply, numDivide, numModula))  #%f의 경우 소수점까지 표현\n",
    "    print(numTest1 == numTest2)  #같다\n",
    "    print(numTest1 != numTest2)  #다르다\n",
    "    print(type(numTest1), numTest1)\n",
    "\n",
    "main()"
   ]
  },
  {
   "cell_type": "markdown",
   "id": "8347ed0f",
   "metadata": {},
   "source": [
    "#### String"
   ]
  },
  {
   "cell_type": "code",
   "execution_count": 28,
   "id": "f9d5c546",
   "metadata": {},
   "outputs": [
    {
     "name": "stdout",
     "output_type": "stream",
     "text": [
      "H E Hel H\n",
      "True False\n",
      "Hello World! ISE Dept\n"
     ]
    }
   ],
   "source": [
    "strTest = 'Hello World! ISE'\n",
    "print(strTest[0], strTest[-1], strTest[0:3], strTest[0::-1])\n",
    "print(\"ISE\" in strTest, \"ISE\" not in strTest)\n",
    "print(strTest+\" Dept\")"
   ]
  },
  {
   "cell_type": "markdown",
   "id": "8ce40f42",
   "metadata": {},
   "source": [
    "#### List"
   ]
  },
  {
   "cell_type": "code",
   "execution_count": 30,
   "id": "451a4eda",
   "metadata": {},
   "outputs": [
    {
     "name": "stdout",
     "output_type": "stream",
     "text": [
      "4 [1, 2] [4, 3, 2, 1]\n",
      "[1, 2, 3, 4, 1, 2, 3, 4]\n",
      "[1, 2, 3, 4, 1, 2, 3, 4, 1, 2, 3, 4]\n",
      "False True\n",
      "[1, 2, 3, 4, 'num']\n",
      "[2, 3, 4, 'num']\n",
      "['num', 4, 3, 2]\n",
      "['num', 4, 2]\n"
     ]
    }
   ],
   "source": [
    "lstTest = [1, 2, 3, 4]\n",
    "print(lstTest[3], lstTest[0:2], lstTest[::-1])\n",
    "print(lstTest+lstTest)\n",
    "print(lstTest*3)\n",
    "print(5 in lstTest, 5 not in lstTest)\n",
    "lstTest.append('num')\n",
    "print(lstTest)\n",
    "del lstTest[0]\n",
    "print(lstTest)\n",
    "lstTest.reverse()\n",
    "print(lstTest)\n",
    "lstTest.remove(3)\n",
    "print(lstTest)"
   ]
  },
  {
   "cell_type": "markdown",
   "id": "f275aa25",
   "metadata": {},
   "source": [
    "#### Tuple"
   ]
  },
  {
   "cell_type": "code",
   "execution_count": 31,
   "id": "11d3c98b",
   "metadata": {},
   "outputs": [
    {
     "name": "stdout",
     "output_type": "stream",
     "text": [
      "1\n"
     ]
    }
   ],
   "source": [
    "tplTest = (1, 2, 3)\n",
    "print(tplTest[0])"
   ]
  },
  {
   "cell_type": "code",
   "execution_count": 33,
   "id": "51492a05",
   "metadata": {},
   "outputs": [
    {
     "ename": "TypeError",
     "evalue": "'tuple' object does not support item assignment",
     "output_type": "error",
     "traceback": [
      "\u001b[1;31m---------------------------------------------------------------------------\u001b[0m",
      "\u001b[1;31mTypeError\u001b[0m                                 Traceback (most recent call last)",
      "Input \u001b[1;32mIn [33]\u001b[0m, in \u001b[0;36m<cell line: 1>\u001b[1;34m()\u001b[0m\n\u001b[1;32m----> 1\u001b[0m tplTest[\u001b[38;5;241m0\u001b[39m]\u001b[38;5;241m=\u001b[39m\u001b[38;5;124m\"\u001b[39m\u001b[38;5;124mhana\u001b[39m\u001b[38;5;124m\"\u001b[39m\n",
      "\u001b[1;31mTypeError\u001b[0m: 'tuple' object does not support item assignment"
     ]
    }
   ],
   "source": [
    "tplTest[0]=\"hana\"  #Tuple형식은 값을 바꿀 수 없음"
   ]
  },
  {
   "cell_type": "markdown",
   "id": "b1da851a",
   "metadata": {},
   "source": [
    "#### Dictionary"
   ]
  },
  {
   "cell_type": "code",
   "execution_count": 35,
   "id": "d4070621",
   "metadata": {},
   "outputs": [
    {
     "name": "stdout",
     "output_type": "stream",
     "text": [
      "one\n",
      "{1: 'one', 2: 'two', 3: 'three', 4: 'four'}\n",
      "{1: 'hana', 2: 'two', 3: 'three', 4: 'four'}\n",
      "dict_keys([1, 2, 3, 4])\n",
      "dict_values(['hana', 'two', 'three', 'four'])\n",
      "dict_items([(1, 'hana'), (2, 'two'), (3, 'three'), (4, 'four')])\n"
     ]
    }
   ],
   "source": [
    "dicTest = {1:'one', 2:'two', 3:'three'}\n",
    "print(dicTest[1])\n",
    "dicTest[4] = 'four'\n",
    "print(dicTest)\n",
    "dicTest[1] = 'hana'\n",
    "print(dicTest)\n",
    "print(dicTest.keys())\n",
    "print(dicTest.values())\n",
    "print(dicTest.items())"
   ]
  },
  {
   "cell_type": "markdown",
   "id": "a9c26a97",
   "metadata": {},
   "source": [
    "### 03. Condition and Loop Statement"
   ]
  },
  {
   "cell_type": "code",
   "execution_count": 36,
   "id": "eafd246e",
   "metadata": {},
   "outputs": [
    {
     "name": "stdout",
     "output_type": "stream",
     "text": [
      "C\n"
     ]
    }
   ],
   "source": [
    "numScore = 75\n",
    "if numScore > 90:\n",
    "    print('A')\n",
    "elif numScore > 80:\n",
    "    print('B')\n",
    "elif numScore > 70:\n",
    "    print('C')\n",
    "else:\n",
    "    print('D')"
   ]
  },
  {
   "cell_type": "code",
   "execution_count": 37,
   "id": "0ef1b568",
   "metadata": {},
   "outputs": [
    {
     "name": "stdout",
     "output_type": "stream",
     "text": [
      "Enter your scores: 50\n",
      "D\n"
     ]
    }
   ],
   "source": [
    "numScore = int(input(\"Enter your scores: \"))\n",
    "if numScore >= 90:\n",
    "    print('A')\n",
    "elif numScore >= 80:\n",
    "    print('B')\n",
    "elif numScore >= 70:\n",
    "    print('C')\n",
    "else:\n",
    "    print('D')"
   ]
  },
  {
   "cell_type": "code",
   "execution_count": 38,
   "id": "b801bcc2",
   "metadata": {},
   "outputs": [
    {
     "name": "stdout",
     "output_type": "stream",
     "text": [
      "0123456789\n"
     ]
    }
   ],
   "source": [
    "for itr in range(10):\n",
    "    print(itr, end='')\n",
    "print()"
   ]
  },
  {
   "cell_type": "code",
   "execution_count": 39,
   "id": "f822811c",
   "metadata": {},
   "outputs": [
    {
     "name": "stdout",
     "output_type": "stream",
     "text": [
      "55\n"
     ]
    }
   ],
   "source": [
    "sum = 0\n",
    "for itr in range(1,11):\n",
    "    sum += itr\n",
    "print(sum)"
   ]
  },
  {
   "cell_type": "code",
   "execution_count": 40,
   "id": "a684269b",
   "metadata": {},
   "outputs": [
    {
     "name": "stdout",
     "output_type": "stream",
     "text": [
      "1/11/21/31/41/61/71/81/91/\n"
     ]
    }
   ],
   "source": [
    "for itr in range(1,100,10):\n",
    "    if itr == 51:\n",
    "        continue  #itr가 51일 경우 print 단계로 넘어가지 않고 for구문 처음으로 다시 돌아감\n",
    "    else:\n",
    "        print(itr, end=\"/\")\n",
    "print()"
   ]
  },
  {
   "cell_type": "code",
   "execution_count": 41,
   "id": "7f098fbb",
   "metadata": {},
   "outputs": [
    {
     "name": "stdout",
     "output_type": "stream",
     "text": [
      "0 1 2 3 4 !\n",
      "done\n"
     ]
    }
   ],
   "source": [
    "for itr in range(5):\n",
    "    print(itr, end=\" \")\n",
    "else:\n",
    "    print('!')\n",
    "print('done')"
   ]
  },
  {
   "cell_type": "code",
   "execution_count": 42,
   "id": "32075fa4",
   "metadata": {},
   "outputs": [
    {
     "name": "stdout",
     "output_type": "stream",
     "text": [
      "0,1,2,done\n"
     ]
    }
   ],
   "source": [
    "for itr in range(5):\n",
    "    if itr == 3:\n",
    "        break\n",
    "    print(itr, end=\",\")\n",
    "else:\n",
    "    print('!')\n",
    "print('done')"
   ]
  },
  {
   "cell_type": "code",
   "execution_count": 43,
   "id": "8e7ff4f4",
   "metadata": {},
   "outputs": [
    {
     "name": "stdout",
     "output_type": "stream",
     "text": [
      "Goodbye\n"
     ]
    }
   ],
   "source": [
    "itr = sum = 0\n",
    "while itr < 10:\n",
    "    itr = itr+1\n",
    "    if itr == 5:\n",
    "        break\n",
    "    sum = sum+itr\n",
    "else:\n",
    "    print(\"Sum from 1 to 10 : \", sum)\n",
    "print('Goodbye')"
   ]
  },
  {
   "cell_type": "markdown",
   "id": "dc025c80",
   "metadata": {},
   "source": [
    "### 04.Function Statement"
   ]
  },
  {
   "cell_type": "markdown",
   "id": "7c89932a",
   "metadata": {},
   "source": [
    "#### def name(params) : 함수설정 → You can return multiple variables(Keep them in order)"
   ]
  },
  {
   "cell_type": "code",
   "execution_count": 11,
   "id": "8e2b18de",
   "metadata": {},
   "outputs": [],
   "source": [
    "numA = 1\n",
    "numB = 2"
   ]
  },
  {
   "cell_type": "code",
   "execution_count": 12,
   "id": "0a520dfd",
   "metadata": {},
   "outputs": [],
   "source": [
    "def add(numParam1, numParam2):\n",
    "    return numParam1 + numParam2"
   ]
  },
  {
   "cell_type": "code",
   "execution_count": 13,
   "id": "a6e1f478",
   "metadata": {},
   "outputs": [],
   "source": [
    "def multiply(numParam1, numParam2):\n",
    "    return numParam1*2, numParam2*3"
   ]
  },
  {
   "cell_type": "code",
   "execution_count": 14,
   "id": "1295f2bb",
   "metadata": {},
   "outputs": [],
   "source": [
    "def increase(numParam1, step = 1):  #step 자리에 아무 숫자도 입력하지 않을 시, 1이 고정값으로 들어감\n",
    "    return numParam1+step"
   ]
  },
  {
   "cell_type": "code",
   "execution_count": 15,
   "id": "f03e9605",
   "metadata": {},
   "outputs": [],
   "source": [
    "numC = add(numA, numB)\n",
    "numD, numE = multiply(numA, numB)\n",
    "numF = increase(numA, 5)\n",
    "numG = increase(numA) "
   ]
  },
  {
   "cell_type": "markdown",
   "id": "c5867a10",
   "metadata": {},
   "source": [
    "#### lambda : One line function"
   ]
  },
  {
   "cell_type": "code",
   "execution_count": 17,
   "id": "20a2b0f0",
   "metadata": {},
   "outputs": [],
   "source": [
    "lambdaAdd = lambda numParam1, numParam2 : numParam1 + numParam2"
   ]
  },
  {
   "cell_type": "code",
   "execution_count": 19,
   "id": "c870a0e6",
   "metadata": {},
   "outputs": [],
   "source": [
    "numH = lambdaAdd(numA, numB)"
   ]
  },
  {
   "cell_type": "code",
   "execution_count": 20,
   "id": "b12adef0",
   "metadata": {},
   "outputs": [
    {
     "name": "stdout",
     "output_type": "stream",
     "text": [
      "3 2 6 6 2 3\n"
     ]
    }
   ],
   "source": [
    "print(numC, numD, numE, numF, numG, numH)"
   ]
  },
  {
   "cell_type": "markdown",
   "id": "9f5d137e",
   "metadata": {},
   "source": [
    "#### Sample Program : Finding Prime Numbers "
   ]
  },
  {
   "cell_type": "code",
   "execution_count": 23,
   "id": "5acec435",
   "metadata": {},
   "outputs": [],
   "source": [
    "#### Function for calculation (Definition)\n",
    "def isPrimeNumber(numParam1):\n",
    "    for itr in range(2, numParam1):\n",
    "        if numParam1 % itr == 0:\n",
    "            break\n",
    "    else:\n",
    "        return True\n",
    "    return False"
   ]
  },
  {
   "cell_type": "code",
   "execution_count": 31,
   "id": "52abd2e2",
   "metadata": {},
   "outputs": [
    {
     "data": {
      "text/plain": [
       "(False, True)"
      ]
     },
     "execution_count": 31,
     "metadata": {},
     "output_type": "execute_result"
    }
   ],
   "source": [
    "isPrimeNumber(10), isPrimeNumber(5)"
   ]
  },
  {
   "cell_type": "code",
   "execution_count": 35,
   "id": "67f732a5",
   "metadata": {},
   "outputs": [],
   "source": [
    "#### Function for iteration (CALL)\n",
    "def findPrimes(numParam1, numParam2):\n",
    "    numCount = 1\n",
    "    for itr in range(numParam1, numParam2):\n",
    "        if isPrimeNumber(itr) == True:\n",
    "            print(numCount, \" th prime : \", itr)\n",
    "            numCount = numCount + 1"
   ]
  },
  {
   "cell_type": "code",
   "execution_count": 36,
   "id": "14944cbc",
   "metadata": {},
   "outputs": [
    {
     "name": "stdout",
     "output_type": "stream",
     "text": [
      "1  th prime :  1\n",
      "2  th prime :  2\n",
      "3  th prime :  3\n",
      "4  th prime :  5\n",
      "5  th prime :  7\n"
     ]
    }
   ],
   "source": [
    "findPrimes(1, 10)"
   ]
  },
  {
   "cell_type": "code",
   "execution_count": 29,
   "id": "40e66a42",
   "metadata": {},
   "outputs": [
    {
     "data": {
      "text/plain": [
       "0"
      ]
     },
     "execution_count": 29,
     "metadata": {},
     "output_type": "execute_result"
    }
   ],
   "source": [
    "4%2"
   ]
  },
  {
   "cell_type": "code",
   "execution_count": 40,
   "id": "76c6ee66",
   "metadata": {},
   "outputs": [
    {
     "data": {
      "text/plain": [
       "[2, 3]"
      ]
     },
     "execution_count": 40,
     "metadata": {},
     "output_type": "execute_result"
    }
   ],
   "source": [
    "list(range(2,4))"
   ]
  },
  {
   "cell_type": "markdown",
   "id": "2a4b1126",
   "metadata": {},
   "source": [
    "### 05.Assignment and Equivalence"
   ]
  },
  {
   "cell_type": "code",
   "execution_count": 42,
   "id": "aee7ac55",
   "metadata": {},
   "outputs": [],
   "source": [
    "x = [1, 2, 3]\n",
    "y = [100, x, 120]\n",
    "z = [x, 'a', 'b']"
   ]
  },
  {
   "cell_type": "code",
   "execution_count": 44,
   "id": "338a2e51",
   "metadata": {},
   "outputs": [
    {
     "name": "stdout",
     "output_type": "stream",
     "text": [
      "x:  [1, 2, 3]\n",
      "y:  [100, [1, 2, 3], 120]\n",
      "z:  [[1, 2, 3], 'a', 'b']\n"
     ]
    }
   ],
   "source": [
    "print('x: ', x)\n",
    "print('y: ', y)\n",
    "print('z: ', z)"
   ]
  },
  {
   "cell_type": "code",
   "execution_count": 45,
   "id": "3d31435c",
   "metadata": {},
   "outputs": [
    {
     "data": {
      "text/plain": [
       "[1, 1717, 3]"
      ]
     },
     "execution_count": 45,
     "metadata": {},
     "output_type": "execute_result"
    }
   ],
   "source": [
    "x[1] = 1717\n",
    "x"
   ]
  },
  {
   "cell_type": "code",
   "execution_count": 54,
   "id": "9ab0fdf4",
   "metadata": {},
   "outputs": [
    {
     "name": "stdout",
     "output_type": "stream",
     "text": [
      "[100, [1, 1717, 3], 120] [[1, 1717, 3], 'a', 'b']\n"
     ]
    }
   ],
   "source": [
    "print(y, z) #y를 수정하지 않더라도, x자체가 변하면 y 내의 x값도 변함 (reference 형태로 저장되는 것)"
   ]
  },
  {
   "cell_type": "code",
   "execution_count": 55,
   "id": "a87e1f86",
   "metadata": {},
   "outputs": [
    {
     "name": "stdout",
     "output_type": "stream",
     "text": [
      "[1, 2, 3] [1, 2, 3]\n"
     ]
    }
   ],
   "source": [
    "x[1] = 2\n",
    "x2 = [1, 2, 3]\n",
    "print(x, x2)"
   ]
  },
  {
   "cell_type": "code",
   "execution_count": 56,
   "id": "bb08e10b",
   "metadata": {},
   "outputs": [
    {
     "name": "stdout",
     "output_type": "stream",
     "text": [
      "Values are equivalent\n"
     ]
    }
   ],
   "source": [
    "if x == x2:\n",
    "    print(\"Values are equivalent\")\n",
    "else:\n",
    "    print(\"Values are not equivalent\")"
   ]
  },
  {
   "cell_type": "code",
   "execution_count": 57,
   "id": "ba9892c5",
   "metadata": {},
   "outputs": [
    {
     "name": "stdout",
     "output_type": "stream",
     "text": [
      "Values are not stored at the same place\n"
     ]
    }
   ],
   "source": [
    "# 값이 같더라도 x와 x2는 다른 store space에 저장되어 있음\n",
    "\n",
    "if x is x2:\n",
    "    print(\"Values are stored at the same place\")\n",
    "else:\n",
    "    print(\"Values are not stored at the same place\")"
   ]
  },
  {
   "cell_type": "code",
   "execution_count": 58,
   "id": "de4de652",
   "metadata": {},
   "outputs": [
    {
     "name": "stdout",
     "output_type": "stream",
     "text": [
      "Values are stored at the same place\n"
     ]
    }
   ],
   "source": [
    " if x[1] is y[1][1]: # y[1][1] = x[1]\n",
    "    print(\"Values are stored at the same place\") \n",
    "else:\n",
    "    print(\"Values are not stored at the same place\")"
   ]
  },
  {
   "cell_type": "markdown",
   "id": "16a772dd",
   "metadata": {},
   "source": [
    "### 06.Class and Instance"
   ]
  },
  {
   "cell_type": "code",
   "execution_count": 65,
   "id": "a14e356f",
   "metadata": {},
   "outputs": [],
   "source": [
    "class MyHome:\n",
    "    colorRoof = 'red'\n",
    "    stateDoor = 'closed'\n",
    "    def paintRoof(self, color):\n",
    "        self.colorRoof = color\n",
    "    def openDoor(self):\n",
    "        self.stateDoor = 'open'\n",
    "    def closeDoor(self):\n",
    "        self.stateDoor = 'close'\n",
    "    def printStatus(self):\n",
    "        print(\"Roof color is \", self.colorRoof, \", and door is\", self.stateDoor)"
   ]
  },
  {
   "cell_type": "code",
   "execution_count": 66,
   "id": "ab46c81c",
   "metadata": {},
   "outputs": [],
   "source": [
    "homeatDaegu = MyHome()\n",
    "homeatSeoul = MyHome()"
   ]
  },
  {
   "cell_type": "code",
   "execution_count": 67,
   "id": "9c9c7226",
   "metadata": {},
   "outputs": [
    {
     "data": {
      "text/plain": [
       "False"
      ]
     },
     "execution_count": 67,
     "metadata": {},
     "output_type": "execute_result"
    }
   ],
   "source": [
    "homeatDaegu is homeatSeoul"
   ]
  },
  {
   "cell_type": "code",
   "execution_count": 68,
   "id": "0a095275",
   "metadata": {},
   "outputs": [],
   "source": [
    "homeatDaegu.paintRoof('blue')"
   ]
  },
  {
   "cell_type": "code",
   "execution_count": 69,
   "id": "637fc226",
   "metadata": {},
   "outputs": [],
   "source": [
    "homeatSeoul.openDoor()"
   ]
  },
  {
   "cell_type": "code",
   "execution_count": 70,
   "id": "ccd07537",
   "metadata": {},
   "outputs": [
    {
     "name": "stdout",
     "output_type": "stream",
     "text": [
      "Roof color is  blue , and door is closed\n"
     ]
    }
   ],
   "source": [
    "homeatDaegu.printStatus()"
   ]
  },
  {
   "cell_type": "code",
   "execution_count": 71,
   "id": "c27aa04f",
   "metadata": {},
   "outputs": [
    {
     "name": "stdout",
     "output_type": "stream",
     "text": [
      "Roof color is  red , and door is open\n"
     ]
    }
   ],
   "source": [
    "homeatSeoul.printStatus()"
   ]
  },
  {
   "cell_type": "markdown",
   "id": "a92dc833",
   "metadata": {},
   "source": [
    "### 07.Important Methods in Class - Constructor, Destructor"
   ]
  },
  {
   "cell_type": "code",
   "execution_count": 75,
   "id": "c106d78d",
   "metadata": {},
   "outputs": [],
   "source": [
    "# Constructor(생성자) : Called when instantiated ← instance를 초기화하여 우리가 원하는 형태로 저장하는 것\n",
    "# Deconstructor(소멸자) : Called when the instance is removed from the value table ← 안전한 프로그래밍을 위해 필요"
   ]
  },
  {
   "cell_type": "code",
   "execution_count": 82,
   "id": "034b31f6",
   "metadata": {},
   "outputs": [],
   "source": [
    "from time import ctime"
   ]
  },
  {
   "cell_type": "code",
   "execution_count": 83,
   "id": "091f496a",
   "metadata": {},
   "outputs": [],
   "source": [
    "class MyHome:\n",
    "    colorRoof = 'red'\n",
    "    stateDoor = 'closed'\n",
    "    def paintRoof(self, color):\n",
    "        self.colorRoof = color\n",
    "    def openDoor(self):\n",
    "        self.stateDoor = 'open'\n",
    "    def closeDoor(self):\n",
    "        self.stateDoor = 'close'\n",
    "    def printStatus(self):\n",
    "        print(\"Roof color is \", self.colorRoof, \", and door is\", self.stateDoor)\n",
    "    def __int__(self, strAddress):\n",
    "        print(\"Built on\", strAddress)\n",
    "        print(\"Built at\", ctime())\n",
    "    def __del__(self):\n",
    "        print(\"Destroyed at\", ctime())"
   ]
  },
  {
   "cell_type": "markdown",
   "id": "ddea8cf4",
   "metadata": {},
   "source": [
    "### 08.Module and Import"
   ]
  },
  {
   "cell_type": "code",
   "execution_count": 84,
   "id": "19e73074",
   "metadata": {},
   "outputs": [],
   "source": [
    "# Packages : directories\n",
    "# Clusters Moules → filename.py\n",
    "# from package import module\n",
    "# Package has __init__.py in the directory"
   ]
  },
  {
   "cell_type": "code",
   "execution_count": null,
   "id": "5a1e6e9c",
   "metadata": {},
   "outputs": [],
   "source": []
  }
 ],
 "metadata": {
  "kernelspec": {
   "display_name": "Python 3 (ipykernel)",
   "language": "python",
   "name": "python3"
  },
  "language_info": {
   "codemirror_mode": {
    "name": "ipython",
    "version": 3
   },
   "file_extension": ".py",
   "mimetype": "text/x-python",
   "name": "python",
   "nbconvert_exporter": "python",
   "pygments_lexer": "ipython3",
   "version": "3.9.12"
  }
 },
 "nbformat": 4,
 "nbformat_minor": 5
}
